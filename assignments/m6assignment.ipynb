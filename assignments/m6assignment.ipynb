{
 "cells": [
  {
   "cell_type": "markdown",
   "metadata": {},
   "source": [
    "# CMPSC 445 - M6 Assignment"
   ]
  },
  {
   "cell_type": "markdown",
   "metadata": {},
   "source": [
    "### Importing Libraries"
   ]
  },
  {
   "cell_type": "code",
   "execution_count": 8,
   "metadata": {},
   "outputs": [],
   "source": [
    "import pandas as pd\n",
    "from sklearn.neural_network import MLPClassifier\n",
    "from sklearn.model_selection import train_test_split, cross_val_score\n",
    "from sklearn.metrics import accuracy_score"
   ]
  },
  {
   "cell_type": "markdown",
   "metadata": {},
   "source": [
    "### Load Iris Dataset"
   ]
  },
  {
   "cell_type": "code",
   "execution_count": 3,
   "metadata": {},
   "outputs": [],
   "source": [
    "url = \"https://archive.ics.uci.edu/ml/machine-learning-databases/iris/iris.data\"\n",
    "names = ['sepal-length', 'sepal-width', 'petal-length', 'petal-width', 'class']\n",
    "dataset = pd.read_csv(url, names=names)\n",
    "\n",
    "X = dataset.values[:,0:4].astype(float)\n",
    "Y = dataset.values[:,4].astype(str)"
   ]
  },
  {
   "cell_type": "markdown",
   "metadata": {},
   "source": [
    "### Train a Neural Network"
   ]
  },
  {
   "cell_type": "markdown",
   "metadata": {},
   "source": [
    "#### Partition Training and Testing Data\n",
    "Training size = 40% of Iris dataset instances"
   ]
  },
  {
   "cell_type": "code",
   "execution_count": 4,
   "metadata": {},
   "outputs": [],
   "source": [
    "X_train, X_test, y_train, y_test = train_test_split(X, Y, test_size=0.40)"
   ]
  },
  {
   "cell_type": "markdown",
   "metadata": {},
   "source": [
    "#### Setup Model\n",
    "\n",
    "- Multilayer Neural Network Model\n",
    "- Learning Rate: 0.001\n",
    "- 3 hidden neurons in 1 layer"
   ]
  },
  {
   "cell_type": "code",
   "execution_count": 5,
   "metadata": {},
   "outputs": [],
   "source": [
    "hidden_nuerons = 3\n",
    "learning_rate = 0.001\n",
    "\n",
    "clf = MLPClassifier(\n",
    "    solver = 'sgd', \n",
    "    activation = 'logistic',                 \n",
    "    learning_rate_init = learning_rate, \n",
    "    learning_rate = 'constant', \n",
    "    max_iter = 1000, \n",
    "    verbose = True,\n",
    "    hidden_layer_sizes = (hidden_nuerons,)\n",
    ")"
   ]
  },
  {
   "cell_type": "markdown",
   "metadata": {},
   "source": [
    "#### Cross-Validation"
   ]
  },
  {
   "cell_type": "code",
   "execution_count": null,
   "metadata": {},
   "outputs": [],
   "source": [
    "# 5-fold cross validation\n",
    "cv_results = cross_val_score(clf, X_train, y_train, cv=5)\n",
    "\n",
    "msg = f\"Average Accuracy on cross-validation: {cv_results.mean()} ({cv_results.std()})\""
   ]
  },
  {
   "cell_type": "markdown",
   "metadata": {},
   "source": [
    "<table>\n",
    "    <thead>\n",
    "        <tr>\n",
    "            <th rowspan=\"2\">Hidden Neurons</th>\n",
    "            <th colspan=\"3\">Learning Rates</th>\n",
    "        </tr>\n",
    "        <tr>\n",
    "            <th>0.001</th>\n",
    "            <th>0.01</th>\n",
    "            <th>0.1</th>\n",
    "        </tr>\n",
    "    </thead>\n",
    "    <tbody>\n",
    "        <tr>\n",
    "            <th>1</th>\n",
    "            <td>0.4377</td>\n",
    "            <td>0.5445</td>\n",
    "            <td>0.6757</td>\n",
    "        </tr>\n",
    "        <tr>\n",
    "            <th>3</th>\n",
    "            <td>0.6278</td>\n",
    "            <td>0.8767</td>\n",
    "            <td>0.9534</td>\n",
    "        </tr>\n",
    "        <tr>\n",
    "            <th>5</th>\n",
    "            <td>0.7144</td>\n",
    "            <td>0.9678</td>\n",
    "            <td>0.9567</td>\n",
    "        </tr>\n",
    "    </tbody>\n",
    "</table>"
   ]
  },
  {
   "cell_type": "markdown",
   "metadata": {},
   "source": [
    "Neural Network Configuration Selected: \n",
    "- Hidden Nuerons: 5\n",
    "- Learning Rate: 0.01"
   ]
  },
  {
   "cell_type": "code",
   "execution_count": null,
   "metadata": {},
   "outputs": [],
   "source": [
    "hidden_nuerons = 5\n",
    "learning_rate = 0.01\n",
    "\n",
    "clf_fin = MLPClassifier(\n",
    "    solver = 'sgd', \n",
    "    activation = 'logistic',                 \n",
    "    learning_rate_init = learning_rate, \n",
    "    learning_rate = 'constant', \n",
    "    max_iter = 1000, \n",
    "    verbose = True,\n",
    "    hidden_layer_sizes = (hidden_nuerons,)\n",
    ")\n",
    "\n",
    "clf_fin.fit(X_train, y_train)"
   ]
  },
  {
   "cell_type": "markdown",
   "metadata": {},
   "source": [
    "### Predictions\n",
    "\n",
    "Testing on entire test dataset `y_test`\n",
    "\n",
    "Hidden Layer Size: 5\n",
    "<br>\n",
    "Learning Rate: 0.01\n",
    "\n",
    "Reported Accuracy: 98.333%"
   ]
  },
  {
   "cell_type": "code",
   "execution_count": 11,
   "metadata": {},
   "outputs": [
    {
     "name": "stdout",
     "output_type": "stream",
     "text": [
      "Accuracy Score: 0.983\n",
      "Accuracy Percentage: 98.333%\n"
     ]
    }
   ],
   "source": [
    "# predictions with the selected neural network classifier with respective hidden layers and learning rate\n",
    "results = clf_fin.predict(X_test)\n",
    "acc_score = accuracy_score(y_test, results)\n",
    "print(f\"Accuracy Score: {acc_score:.3f}\")\n",
    "print(f\"Accuracy Percentage: {acc_score*100:.3f}%\")"
   ]
  },
  {
   "cell_type": "markdown",
   "metadata": {},
   "source": [
    "### Manual Calculations\n",
    "\n",
    "Neural Network Questions\n",
    "\n",
    "1. Output of the hidden node H, when feed-forwarding with sigmoid function (activation function)\n",
    "\n",
    "    $ g(y) = \\sigma(y) = \\frac{1}{1+e^{-y}} $\n",
    "    \n",
    "    $ H = (\\sum_{i=1}^n \\theta_i x_i) + b$\n",
    "    \n",
    "    We know: $b=0$ and $[X_1, X_2] = [0.1, 0.2]$\n",
    "\n",
    "    $ \\rarr 0.1(1) + 0.2(2) + 0 = 0.5 $\n",
    "    \n",
    "    $ \\rarr g(0.5) = \\sigma(0.5) = \\frac{1}{1+e^{-0.5}} = 0.6625 $\n",
    "\n",
    "    $ H = 0.6625 $\n",
    "    \n",
    "\n",
    "\n",
    "2. $\\Delta w_o1$ using backpropagation\n",
    "\n",
    "    We know: $[O_1, O_2] = [0, 1]$\n",
    "\n",
    "    $\\Delta w_o1 = (\\frac{\\partial E}{\\partial out})(\\frac{\\partial out}{\\partial y})(\\frac{\\partial y}{\\partial w_i})$ \n",
    "\n",
    "    $ E = \\frac{1}{2} (target - out)^2 \\rarr \\frac{\\partial E}{\\partial out} = -(target - out) $\n",
    "\n",
    "    $ out = \\sigma (y) \\rarr \\frac{\\partial}{\\partial y} \\sigma (y) = y(1-y) $\n",
    "\n",
    "    $ y = x_1w_1 + x_2w_2 \\rarr \\frac{\\partial y}{\\partial w_1} = x_1 $\n",
    "\n",
    "    $ \\rarr \\Delta w_o1 = [(-(target - out))(y(1 - y))(x_1)] $\n",
    "\n",
    "    $ \\rarr (-(0 - 0.776))(0.776(1 - 0.776))(0.6625) = 0.0894 $\n",
    "\n",
    "    $ \\Delta w_1 = 0.0984 $"
   ]
  }
 ],
 "metadata": {
  "kernelspec": {
   "display_name": "cmpsc445",
   "language": "python",
   "name": "python3"
  },
  "language_info": {
   "codemirror_mode": {
    "name": "ipython",
    "version": 3
   },
   "file_extension": ".py",
   "mimetype": "text/x-python",
   "name": "python",
   "nbconvert_exporter": "python",
   "pygments_lexer": "ipython3",
   "version": "3.12.6"
  }
 },
 "nbformat": 4,
 "nbformat_minor": 2
}

{
 "cells": [
  {
   "cell_type": "markdown",
   "metadata": {},
   "source": [
    "# CMPSC 445 - M6 Assignment"
   ]
  },
  {
   "cell_type": "markdown",
   "metadata": {},
   "source": [
    "### Importing Libraries"
   ]
  },
  {
   "cell_type": "code",
   "execution_count": 6,
   "metadata": {},
   "outputs": [],
   "source": [
    "import pandas as pd\n",
    "from sklearn.neural_network import MLPClassifier\n",
    "from sklearn.model_selection import train_test_split, cross_val_score"
   ]
  },
  {
   "cell_type": "markdown",
   "metadata": {},
   "source": [
    "### Load Iris Dataset"
   ]
  },
  {
   "cell_type": "code",
   "execution_count": 7,
   "metadata": {},
   "outputs": [],
   "source": [
    "url = \"https://archive.ics.uci.edu/ml/machine-learning-databases/iris/iris.data\"\n",
    "names = ['sepal-length', 'sepal-width', 'petal-length', 'petal-width', 'class']\n",
    "dataset = pd.read_csv(url, names=names)\n",
    "\n",
    "X = dataset.values[:,0:4].astype(float)\n",
    "Y = dataset.values[:,4].astype(str)"
   ]
  },
  {
   "cell_type": "markdown",
   "metadata": {},
   "source": [
    "### Train a Neural Network"
   ]
  },
  {
   "cell_type": "markdown",
   "metadata": {},
   "source": [
    "#### Partition Training and Testing Data\n",
    "Training size = 40% of Iris dataset instances"
   ]
  },
  {
   "cell_type": "code",
   "execution_count": 8,
   "metadata": {},
   "outputs": [],
   "source": [
    "X_train, X_test, y_train, y_test = train_test_split(X, Y, test_size=0.40)"
   ]
  },
  {
   "cell_type": "markdown",
   "metadata": {},
   "source": [
    "#### Setup Model\n",
    "\n",
    "- Multilayer Neural Network Model\n",
    "- Learning Rate: 0.001\n",
    "- 3 hidden neurons in 1 layer"
   ]
  },
  {
   "cell_type": "code",
   "execution_count": 9,
   "metadata": {},
   "outputs": [],
   "source": [
    "clf = MLPClassifier(\n",
    "    solver = 'sgd', \n",
    "    activation = 'logistic',                 \n",
    "    learning_rate_init = 0.001, \n",
    "    learning_rate = 'constant', \n",
    "    max_iter = 1000, \n",
    "    verbose = True,\n",
    "    hidden_layer_sizes = (3,)\n",
    ")"
   ]
  },
  {
   "cell_type": "markdown",
   "metadata": {},
   "source": [
    "#### Cross-Validation"
   ]
  },
  {
   "cell_type": "code",
   "execution_count": null,
   "metadata": {},
   "outputs": [],
   "source": [
    "# 5-fold cross validation\n",
    "cv_results = cross_val_score(clf, X_train, y_train, cv=5)\n",
    "\n",
    "msg = f\"Average Accuracy on cross-validation: {cv_results.mean()} ({cv_results.std()})\""
   ]
  },
  {
   "cell_type": "markdown",
   "metadata": {},
   "source": [
    "Try learning rates of 0.001, 0.01, and 0.1, with a combination of 1, 3, and 5 hidden neurons.\n",
    "\n",
    "Number of Hidden Neurons vs. Learning Rates\n",
    "|       | 0.001 | 0.01 | 0.1 |\n",
    "|:-------:|:------------:|:------------:|:------------:|\n",
    "| 1 | 0.5867   | 0.9756  | Data 1.3   |\n",
    "| 3 | Data 2.1   | Data 2.2   | Data 2.3   |\n",
    "| 5 | Data 3.1   | Data 3.2   | Data 3.3   |\n",
    "\n",
    "\n"
   ]
  }
 ],
 "metadata": {
  "kernelspec": {
   "display_name": "cmpsc445",
   "language": "python",
   "name": "python3"
  },
  "language_info": {
   "codemirror_mode": {
    "name": "ipython",
    "version": 3
   },
   "file_extension": ".py",
   "mimetype": "text/x-python",
   "name": "python",
   "nbconvert_exporter": "python",
   "pygments_lexer": "ipython3",
   "version": "3.12.6"
  }
 },
 "nbformat": 4,
 "nbformat_minor": 2
}
